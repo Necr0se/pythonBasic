{
 "cells": [
  {
   "cell_type": "code",
   "execution_count": 1,
   "id": "8d41060c-b36a-4e39-9267-1ab9fa031a30",
   "metadata": {},
   "outputs": [
    {
     "name": "stdout",
     "output_type": "stream",
     "text": [
      "Hello world\n"
     ]
    }
   ],
   "source": [
    "print(\"Hello world\")"
   ]
  },
  {
   "cell_type": "code",
   "execution_count": 12,
   "id": "2fca8967-e843-4504-8515-397d6f2b3833",
   "metadata": {},
   "outputs": [],
   "source": [
    "savingAccount = 5000"
   ]
  },
  {
   "cell_type": "code",
   "execution_count": 14,
   "id": "2a5c7d2b-91c4-4eed-b897-1c759e1eadf4",
   "metadata": {},
   "outputs": [],
   "source": [
    "checkingAccount = 2000\n",
    "\n"
   ]
  },
  {
   "cell_type": "code",
   "execution_count": 16,
   "id": "973d8a0d-19c2-4be9-87bf-1ac4b9ae3b35",
   "metadata": {},
   "outputs": [
    {
     "data": {
      "text/plain": [
       "7000"
      ]
     },
     "execution_count": 16,
     "metadata": {},
     "output_type": "execute_result"
    }
   ],
   "source": [
    "savingAccount + checkingAccount"
   ]
  },
  {
   "cell_type": "code",
   "execution_count": 18,
   "id": "7e47e7b7-2efc-4d08-8a40-df72872c1c32",
   "metadata": {},
   "outputs": [
    {
     "name": "stdout",
     "output_type": "stream",
     "text": [
      "checkingAccount\n"
     ]
    }
   ],
   "source": [
    "print (\"checkingAccount\")"
   ]
  },
  {
   "cell_type": "code",
   "execution_count": 24,
   "id": "a0734e82-a06d-4c64-8c54-b67f1ba40ab8",
   "metadata": {},
   "outputs": [],
   "source": [
    "savingAccount = savingAccount + 500"
   ]
  },
  {
   "cell_type": "code",
   "execution_count": 26,
   "id": "8a5ca32a-eb76-4d47-9512-5f6c24edd21f",
   "metadata": {},
   "outputs": [
    {
     "data": {
      "text/plain": [
       "4500"
      ]
     },
     "execution_count": 26,
     "metadata": {},
     "output_type": "execute_result"
    }
   ],
   "source": [
    "savingAccount - checkingAccount"
   ]
  },
  {
   "cell_type": "code",
   "execution_count": 28,
   "id": "c6526c29-4d89-4038-9d08-a1d7b3ab9a24",
   "metadata": {},
   "outputs": [],
   "source": [
    "firstName = \"William\""
   ]
  },
  {
   "cell_type": "code",
   "execution_count": 30,
   "id": "ce8380f3-1b2d-4746-9d2a-42dde90ed9de",
   "metadata": {},
   "outputs": [],
   "source": [
    "address = \"Odorkor Official Town\""
   ]
  },
  {
   "cell_type": "code",
   "execution_count": 44,
   "id": "0b7fea6a-c1a0-4436-b4f6-d8519e4af215",
   "metadata": {},
   "outputs": [
    {
     "name": "stdout",
     "output_type": "stream",
     "text": [
      "William lives at Odorkor Official Town\n"
     ]
    }
   ],
   "source": [
    "print(firstName+\" \"+ \"lives\" +\" \"+ \"at\" +\" \"+address)"
   ]
  },
  {
   "cell_type": "code",
   "execution_count": 46,
   "id": "8fb78521-867a-4cd9-9a9a-64982752c9bf",
   "metadata": {},
   "outputs": [],
   "source": [
    "cost = 20"
   ]
  },
  {
   "cell_type": "code",
   "execution_count": 48,
   "id": "b4cede89-4180-4dd8-a463-7e54f42d7bd9",
   "metadata": {},
   "outputs": [],
   "source": [
    "length = 14.69"
   ]
  },
  {
   "cell_type": "code",
   "execution_count": 50,
   "id": "b49bcdb5-4967-4562-b828-101177fd6066",
   "metadata": {},
   "outputs": [],
   "source": [
    "width = 5.64"
   ]
  },
  {
   "cell_type": "code",
   "execution_count": 52,
   "id": "cd2ef4b4-f11a-4368-add7-277acbd427b9",
   "metadata": {},
   "outputs": [
    {
     "name": "stdout",
     "output_type": "stream",
     "text": [
      "2.604609929078014\n"
     ]
    }
   ],
   "source": [
    "print(length/width)\n"
   ]
  },
  {
   "cell_type": "code",
   "execution_count": 66,
   "id": "9ee711aa-70d4-4290-906c-4b0b10234dd5",
   "metadata": {},
   "outputs": [
    {
     "name": "stdout",
     "output_type": "stream",
     "text": [
      "2\n"
     ]
    }
   ],
   "source": [
    "print(int(length/width))"
   ]
  },
  {
   "cell_type": "code",
   "execution_count": 72,
   "id": "9b315857-e403-4ab7-9a24-803c6510d3f0",
   "metadata": {},
   "outputs": [
    {
     "name": "stdout",
     "output_type": "stream",
     "text": [
      "None\n"
     ]
    }
   ],
   "source": [
    "print(b)\n"
   ]
  },
  {
   "cell_type": "code",
   "execution_count": 74,
   "id": "df7ff8b8-c2b1-4c5d-a20b-963ccf12a5ca",
   "metadata": {},
   "outputs": [],
   "source": [
    "a = \"apple\""
   ]
  },
  {
   "cell_type": "code",
   "execution_count": 76,
   "id": "e70a7c4a-89b2-44db-ba0b-256c1f8f681d",
   "metadata": {},
   "outputs": [
    {
     "name": "stdout",
     "output_type": "stream",
     "text": [
      "5\n"
     ]
    }
   ],
   "source": [
    "print(len(a))"
   ]
  },
  {
   "cell_type": "code",
   "execution_count": 78,
   "id": "3fcee97f-6fb5-45b4-85be-3383c195ad14",
   "metadata": {},
   "outputs": [
    {
     "name": "stdout",
     "output_type": "stream",
     "text": [
      "<class 'str'>\n"
     ]
    }
   ],
   "source": [
    "print(type(a))"
   ]
  },
  {
   "cell_type": "code",
   "execution_count": 80,
   "id": "e4effa25-0e03-44eb-9831-2b85bf825d9a",
   "metadata": {},
   "outputs": [
    {
     "name": "stdout",
     "output_type": "stream",
     "text": [
      "27\n"
     ]
    }
   ],
   "source": [
    "print(pow(3,3))"
   ]
  },
  {
   "cell_type": "code",
   "execution_count": 82,
   "id": "776d3578-ab60-4768-9b9b-c84b3887f9ac",
   "metadata": {},
   "outputs": [
    {
     "name": "stdout",
     "output_type": "stream",
     "text": [
      "500\n"
     ]
    }
   ],
   "source": [
    "print(abs(-500))"
   ]
  },
  {
   "cell_type": "code",
   "execution_count": 104,
   "id": "f833ee87-e9e3-4c0a-ad54-0ce8582c1cd6",
   "metadata": {},
   "outputs": [],
   "source": [
    "def printPerimeter():\n",
    "    dimension1 = 3\n",
    "    dimension2 = 5\n",
    "    dimension3 = 10\n",
    "    perimeter = dimension1 + dimension3 - dimension2\n",
    "    print(perimeter)"
   ]
  },
  {
   "cell_type": "code",
   "execution_count": 106,
   "id": "4f0e8eb1-69f6-42c5-bfd1-f512f85b5561",
   "metadata": {},
   "outputs": [
    {
     "name": "stdout",
     "output_type": "stream",
     "text": [
      "8\n"
     ]
    }
   ],
   "source": [
    "printPerimeter()"
   ]
  },
  {
   "cell_type": "code",
   "execution_count": 108,
   "id": "02c3b720-58bc-44c1-aff5-1c4d8b7b6df1",
   "metadata": {},
   "outputs": [],
   "source": [
    "def calculatePerimeter(dimension1,dimension2,dimension3):\n",
    "    perimeter = dimension1 + dimension2 + dimension3\n",
    "    return perimeter"
   ]
  },
  {
   "cell_type": "code",
   "execution_count": 112,
   "id": "4eb3af9a-e01a-4f32-a4dd-822d8acfa03e",
   "metadata": {},
   "outputs": [],
   "source": [
    "perimeter1 = calculatePerimeter(3,5,10)\n",
    "perimeter2 = calculatePerimeter(5,10,15)\n"
   ]
  },
  {
   "cell_type": "code",
   "execution_count": 114,
   "id": "69f3eaaf-da95-414f-81a3-160902abe692",
   "metadata": {},
   "outputs": [
    {
     "name": "stdout",
     "output_type": "stream",
     "text": [
      "The perimeter of the triangle is 18 and that of the rectangle is 30\n"
     ]
    }
   ],
   "source": [
    "print(\"The perimeter of the triangle is\", perimeter1, \"and that of the rectangle is\", perimeter2)"
   ]
  },
  {
   "cell_type": "code",
   "execution_count": null,
   "id": "f549107d-b31e-4043-9f98-0cc4a3879ccc",
   "metadata": {},
   "outputs": [],
   "source": []
  }
 ],
 "metadata": {
  "kernelspec": {
   "display_name": "Python 3 (ipykernel)",
   "language": "python",
   "name": "python3"
  },
  "language_info": {
   "codemirror_mode": {
    "name": "ipython",
    "version": 3
   },
   "file_extension": ".py",
   "mimetype": "text/x-python",
   "name": "python",
   "nbconvert_exporter": "python",
   "pygments_lexer": "ipython3",
   "version": "3.12.4"
  }
 },
 "nbformat": 4,
 "nbformat_minor": 5
}
